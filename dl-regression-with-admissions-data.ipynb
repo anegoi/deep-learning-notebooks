{
 "cells": [
  {
   "cell_type": "markdown",
   "id": "1b560322",
   "metadata": {
    "papermill": {
     "duration": 0.007186,
     "end_time": "2024-04-26T09:46:33.591602",
     "exception": false,
     "start_time": "2024-04-26T09:46:33.584416",
     "status": "completed"
    },
    "tags": []
   },
   "source": [
    "# Deep learning regression model with admissions data\n",
    "\n",
    "From kaggle:https://www.kaggle.com/datasets/mohansacharya/graduate-admissions/data\n",
    "\n",
    "Create a neural network model to perform a regression analysis on the admission data.\n",
    "\n",
    "**Content**\n",
    "The dataset contains several parameters which are considered important during the application for Masters Programs.\n",
    "The parameters included are :\n",
    "- GRE Scores ( out of 340 )\n",
    "- TOEFL Scores ( out of 120 )\n",
    "- University Rating ( out of 5 )\n",
    "- Statement of Purpose and Letter of Recommendation Strength ( out of 5 )\n",
    "- Undergraduate GPA ( out of 10 )\n",
    "- Research Experience ( either 0 or 1 )\n"
   ]
  },
  {
   "cell_type": "code",
   "execution_count": 1,
   "id": "56e7fe85",
   "metadata": {
    "execution": {
     "iopub.execute_input": "2024-04-26T09:46:33.607254Z",
     "iopub.status.busy": "2024-04-26T09:46:33.606521Z",
     "iopub.status.idle": "2024-04-26T09:46:50.535970Z",
     "shell.execute_reply": "2024-04-26T09:46:50.534827Z"
    },
    "papermill": {
     "duration": 16.940439,
     "end_time": "2024-04-26T09:46:50.538862",
     "exception": false,
     "start_time": "2024-04-26T09:46:33.598423",
     "status": "completed"
    },
    "tags": []
   },
   "outputs": [
    {
     "name": "stderr",
     "output_type": "stream",
     "text": [
      "2024-04-26 09:46:36.978240: E external/local_xla/xla/stream_executor/cuda/cuda_dnn.cc:9261] Unable to register cuDNN factory: Attempting to register factory for plugin cuDNN when one has already been registered\n",
      "2024-04-26 09:46:36.978430: E external/local_xla/xla/stream_executor/cuda/cuda_fft.cc:607] Unable to register cuFFT factory: Attempting to register factory for plugin cuFFT when one has already been registered\n",
      "2024-04-26 09:46:37.182200: E external/local_xla/xla/stream_executor/cuda/cuda_blas.cc:1515] Unable to register cuBLAS factory: Attempting to register factory for plugin cuBLAS when one has already been registered\n"
     ]
    }
   ],
   "source": [
    "import pandas as pd\n",
    "import numpy as np\n",
    "import tensorflow as tf\n",
    "from tensorflow import keras\n",
    "from tensorflow.keras.models import Sequential\n",
    "from tensorflow.keras.layers import Dense, InputLayer\n",
    "from tensorflow.keras.callbacks import EarlyStopping\n",
    "from tensorflow.keras.optimizers import Adam\n",
    "from sklearn.model_selection import train_test_split\n",
    "from sklearn.preprocessing import StandardScaler\n",
    "from sklearn.metrics import r2_score, mean_squared_error\n",
    "import matplotlib.pyplot as plt"
   ]
  },
  {
   "cell_type": "code",
   "execution_count": 2,
   "id": "c96b0444",
   "metadata": {
    "_cell_guid": "b1076dfc-b9ad-4769-8c92-a6c4dae69d19",
    "_uuid": "8f2839f25d086af736a60e9eeb907d3b93b6e0e5",
    "execution": {
     "iopub.execute_input": "2024-04-26T09:46:50.554951Z",
     "iopub.status.busy": "2024-04-26T09:46:50.554258Z",
     "iopub.status.idle": "2024-04-26T09:46:50.567979Z",
     "shell.execute_reply": "2024-04-26T09:46:50.566986Z"
    },
    "papermill": {
     "duration": 0.02438,
     "end_time": "2024-04-26T09:46:50.570185",
     "exception": false,
     "start_time": "2024-04-26T09:46:50.545805",
     "status": "completed"
    },
    "tags": []
   },
   "outputs": [
    {
     "name": "stdout",
     "output_type": "stream",
     "text": [
      "/kaggle/input/graduate-admissions/Admission_Predict.csv\n",
      "/kaggle/input/graduate-admissions/Admission_Predict_Ver1.1.csv\n"
     ]
    }
   ],
   "source": [
    "# This Python 3 environment comes with many helpful analytics libraries installed\n",
    "# It is defined by the kaggle/python Docker image: https://github.com/kaggle/docker-python\n",
    "# For example, here's several helpful packages to load\n",
    "\n",
    "#import numpy as np # linear algebra\n",
    "#import pandas as pd # data processing, CSV file I/O (e.g. pd.read_csv)\n",
    "\n",
    "# Input data files are available in the read-only \"../input/\" directory\n",
    "# For example, running this (by clicking run or pressing Shift+Enter) will list all files under the input directory\n",
    "\n",
    "import os\n",
    "for dirname, _, filenames in os.walk('/kaggle/input'):\n",
    "    for filename in filenames:\n",
    "        print(os.path.join(dirname, filename))\n",
    "\n",
    "# You can write up to 20GB to the current directory (/kaggle/working/) that gets preserved as output when you create a version using \"Save & Run All\" \n",
    "# You can also write temporary files to /kaggle/temp/, but they won't be saved outside of the current session"
   ]
  },
  {
   "cell_type": "code",
   "execution_count": 3,
   "id": "d620bf4a",
   "metadata": {
    "execution": {
     "iopub.execute_input": "2024-04-26T09:46:50.585693Z",
     "iopub.status.busy": "2024-04-26T09:46:50.585053Z",
     "iopub.status.idle": "2024-04-26T09:46:50.610147Z",
     "shell.execute_reply": "2024-04-26T09:46:50.608888Z"
    },
    "papermill": {
     "duration": 0.035977,
     "end_time": "2024-04-26T09:46:50.612973",
     "exception": false,
     "start_time": "2024-04-26T09:46:50.576996",
     "status": "completed"
    },
    "tags": []
   },
   "outputs": [],
   "source": [
    "data = pd.read_csv('/kaggle/input/graduate-admissions/Admission_Predict_Ver1.1.csv')"
   ]
  },
  {
   "cell_type": "code",
   "execution_count": 4,
   "id": "2e9dfa98",
   "metadata": {
    "execution": {
     "iopub.execute_input": "2024-04-26T09:46:50.628669Z",
     "iopub.status.busy": "2024-04-26T09:46:50.628248Z",
     "iopub.status.idle": "2024-04-26T09:46:50.657610Z",
     "shell.execute_reply": "2024-04-26T09:46:50.656473Z"
    },
    "papermill": {
     "duration": 0.040166,
     "end_time": "2024-04-26T09:46:50.660301",
     "exception": false,
     "start_time": "2024-04-26T09:46:50.620135",
     "status": "completed"
    },
    "tags": []
   },
   "outputs": [
    {
     "data": {
      "text/html": [
       "<div>\n",
       "<style scoped>\n",
       "    .dataframe tbody tr th:only-of-type {\n",
       "        vertical-align: middle;\n",
       "    }\n",
       "\n",
       "    .dataframe tbody tr th {\n",
       "        vertical-align: top;\n",
       "    }\n",
       "\n",
       "    .dataframe thead th {\n",
       "        text-align: right;\n",
       "    }\n",
       "</style>\n",
       "<table border=\"1\" class=\"dataframe\">\n",
       "  <thead>\n",
       "    <tr style=\"text-align: right;\">\n",
       "      <th></th>\n",
       "      <th>Serial No.</th>\n",
       "      <th>GRE Score</th>\n",
       "      <th>TOEFL Score</th>\n",
       "      <th>University Rating</th>\n",
       "      <th>SOP</th>\n",
       "      <th>LOR</th>\n",
       "      <th>CGPA</th>\n",
       "      <th>Research</th>\n",
       "      <th>Chance of Admit</th>\n",
       "    </tr>\n",
       "  </thead>\n",
       "  <tbody>\n",
       "    <tr>\n",
       "      <th>0</th>\n",
       "      <td>1</td>\n",
       "      <td>337</td>\n",
       "      <td>118</td>\n",
       "      <td>4</td>\n",
       "      <td>4.5</td>\n",
       "      <td>4.5</td>\n",
       "      <td>9.65</td>\n",
       "      <td>1</td>\n",
       "      <td>0.92</td>\n",
       "    </tr>\n",
       "    <tr>\n",
       "      <th>1</th>\n",
       "      <td>2</td>\n",
       "      <td>324</td>\n",
       "      <td>107</td>\n",
       "      <td>4</td>\n",
       "      <td>4.0</td>\n",
       "      <td>4.5</td>\n",
       "      <td>8.87</td>\n",
       "      <td>1</td>\n",
       "      <td>0.76</td>\n",
       "    </tr>\n",
       "    <tr>\n",
       "      <th>2</th>\n",
       "      <td>3</td>\n",
       "      <td>316</td>\n",
       "      <td>104</td>\n",
       "      <td>3</td>\n",
       "      <td>3.0</td>\n",
       "      <td>3.5</td>\n",
       "      <td>8.00</td>\n",
       "      <td>1</td>\n",
       "      <td>0.72</td>\n",
       "    </tr>\n",
       "    <tr>\n",
       "      <th>3</th>\n",
       "      <td>4</td>\n",
       "      <td>322</td>\n",
       "      <td>110</td>\n",
       "      <td>3</td>\n",
       "      <td>3.5</td>\n",
       "      <td>2.5</td>\n",
       "      <td>8.67</td>\n",
       "      <td>1</td>\n",
       "      <td>0.80</td>\n",
       "    </tr>\n",
       "    <tr>\n",
       "      <th>4</th>\n",
       "      <td>5</td>\n",
       "      <td>314</td>\n",
       "      <td>103</td>\n",
       "      <td>2</td>\n",
       "      <td>2.0</td>\n",
       "      <td>3.0</td>\n",
       "      <td>8.21</td>\n",
       "      <td>0</td>\n",
       "      <td>0.65</td>\n",
       "    </tr>\n",
       "  </tbody>\n",
       "</table>\n",
       "</div>"
      ],
      "text/plain": [
       "   Serial No.  GRE Score  TOEFL Score  University Rating  SOP  LOR   CGPA  \\\n",
       "0           1        337          118                  4  4.5   4.5  9.65   \n",
       "1           2        324          107                  4  4.0   4.5  8.87   \n",
       "2           3        316          104                  3  3.0   3.5  8.00   \n",
       "3           4        322          110                  3  3.5   2.5  8.67   \n",
       "4           5        314          103                  2  2.0   3.0  8.21   \n",
       "\n",
       "   Research  Chance of Admit   \n",
       "0         1              0.92  \n",
       "1         1              0.76  \n",
       "2         1              0.72  \n",
       "3         1              0.80  \n",
       "4         0              0.65  "
      ]
     },
     "execution_count": 4,
     "metadata": {},
     "output_type": "execute_result"
    }
   ],
   "source": [
    "data.head()"
   ]
  },
  {
   "cell_type": "code",
   "execution_count": 5,
   "id": "866ae29b",
   "metadata": {
    "execution": {
     "iopub.execute_input": "2024-04-26T09:46:50.676956Z",
     "iopub.status.busy": "2024-04-26T09:46:50.676529Z",
     "iopub.status.idle": "2024-04-26T09:46:50.925911Z",
     "shell.execute_reply": "2024-04-26T09:46:50.924774Z"
    },
    "papermill": {
     "duration": 0.260846,
     "end_time": "2024-04-26T09:46:50.928579",
     "exception": false,
     "start_time": "2024-04-26T09:46:50.667733",
     "status": "completed"
    },
    "tags": []
   },
   "outputs": [
    {
     "name": "stdout",
     "output_type": "stream",
     "text": [
      "<class 'pandas.core.frame.DataFrame'>\n",
      "RangeIndex: 500 entries, 0 to 499\n",
      "Data columns (total 9 columns):\n",
      " #   Column             Non-Null Count  Dtype  \n",
      "---  ------             --------------  -----  \n",
      " 0   Serial No.         500 non-null    int64  \n",
      " 1   GRE Score          500 non-null    int64  \n",
      " 2   TOEFL Score        500 non-null    int64  \n",
      " 3   University Rating  500 non-null    int64  \n",
      " 4   SOP                500 non-null    float64\n",
      " 5   LOR                500 non-null    float64\n",
      " 6   CGPA               500 non-null    float64\n",
      " 7   Research           500 non-null    int64  \n",
      " 8   Chance of Admit    500 non-null    float64\n",
      "dtypes: float64(4), int64(5)\n",
      "memory usage: 35.3 KB\n"
     ]
    }
   ],
   "source": [
    "data.info()"
   ]
  },
  {
   "cell_type": "code",
   "execution_count": 6,
   "id": "62a15d73",
   "metadata": {
    "execution": {
     "iopub.execute_input": "2024-04-26T09:46:50.945458Z",
     "iopub.status.busy": "2024-04-26T09:46:50.945062Z",
     "iopub.status.idle": "2024-04-26T09:46:50.952115Z",
     "shell.execute_reply": "2024-04-26T09:46:50.950975Z"
    },
    "papermill": {
     "duration": 0.018168,
     "end_time": "2024-04-26T09:46:50.954249",
     "exception": false,
     "start_time": "2024-04-26T09:46:50.936081",
     "status": "completed"
    },
    "tags": []
   },
   "outputs": [],
   "source": [
    "# Prepare features and labels\n",
    "features = data.iloc[:, 0:-1]\n",
    "labels = data.iloc[:, -1] #chance of Admit"
   ]
  },
  {
   "cell_type": "code",
   "execution_count": 7,
   "id": "2bfed8b8",
   "metadata": {
    "execution": {
     "iopub.execute_input": "2024-04-26T09:46:50.970698Z",
     "iopub.status.busy": "2024-04-26T09:46:50.970057Z",
     "iopub.status.idle": "2024-04-26T09:46:50.982117Z",
     "shell.execute_reply": "2024-04-26T09:46:50.980953Z"
    },
    "papermill": {
     "duration": 0.022957,
     "end_time": "2024-04-26T09:46:50.984540",
     "exception": false,
     "start_time": "2024-04-26T09:46:50.961583",
     "status": "completed"
    },
    "tags": []
   },
   "outputs": [],
   "source": [
    "# Split data into training and test sets\n",
    "features_train, features_test, labels_train, labels_test = train_test_split(features, labels, test_size=0.2, random_state=23)"
   ]
  },
  {
   "cell_type": "code",
   "execution_count": 8,
   "id": "20d1a6d6",
   "metadata": {
    "execution": {
     "iopub.execute_input": "2024-04-26T09:46:51.001262Z",
     "iopub.status.busy": "2024-04-26T09:46:51.000496Z",
     "iopub.status.idle": "2024-04-26T09:46:51.011682Z",
     "shell.execute_reply": "2024-04-26T09:46:51.010321Z"
    },
    "papermill": {
     "duration": 0.0222,
     "end_time": "2024-04-26T09:46:51.014201",
     "exception": false,
     "start_time": "2024-04-26T09:46:50.992001",
     "status": "completed"
    },
    "tags": []
   },
   "outputs": [],
   "source": [
    "# There are many different scales being used. \n",
    "# For example, the GRE Score is out of 340 while the University Rating is out of 5. \n",
    "# Data normalisation: scale features\n",
    "scaler = StandardScaler()\n",
    "features_train_scaled = scaler.fit_transform(features_train)\n",
    "features_test_scaled = scaler.transform(features_test)"
   ]
  },
  {
   "cell_type": "code",
   "execution_count": 9,
   "id": "2246554d",
   "metadata": {
    "execution": {
     "iopub.execute_input": "2024-04-26T09:46:51.032066Z",
     "iopub.status.busy": "2024-04-26T09:46:51.031669Z",
     "iopub.status.idle": "2024-04-26T09:46:51.110133Z",
     "shell.execute_reply": "2024-04-26T09:46:51.108886Z"
    },
    "papermill": {
     "duration": 0.091424,
     "end_time": "2024-04-26T09:46:51.112955",
     "exception": false,
     "start_time": "2024-04-26T09:46:51.021531",
     "status": "completed"
    },
    "tags": []
   },
   "outputs": [],
   "source": [
    "# Define the neural network model\n",
    "model = Sequential([\n",
    "    InputLayer(shape=(features.shape[1],)),\n",
    "    Dense(16, activation='relu'),\n",
    "    Dense(1, activation='linear')\n",
    "])"
   ]
  },
  {
   "cell_type": "code",
   "execution_count": 10,
   "id": "dd01d20c",
   "metadata": {
    "execution": {
     "iopub.execute_input": "2024-04-26T09:46:51.129892Z",
     "iopub.status.busy": "2024-04-26T09:46:51.129489Z",
     "iopub.status.idle": "2024-04-26T09:46:51.149113Z",
     "shell.execute_reply": "2024-04-26T09:46:51.148266Z"
    },
    "papermill": {
     "duration": 0.030743,
     "end_time": "2024-04-26T09:46:51.151303",
     "exception": false,
     "start_time": "2024-04-26T09:46:51.120560",
     "status": "completed"
    },
    "tags": []
   },
   "outputs": [
    {
     "data": {
      "text/html": [
       "<pre style=\"white-space:pre;overflow-x:auto;line-height:normal;font-family:Menlo,'DejaVu Sans Mono',consolas,'Courier New',monospace\"><span style=\"font-weight: bold\">Model: \"sequential\"</span>\n",
       "</pre>\n"
      ],
      "text/plain": [
       "\u001b[1mModel: \"sequential\"\u001b[0m\n"
      ]
     },
     "metadata": {},
     "output_type": "display_data"
    },
    {
     "data": {
      "text/html": [
       "<pre style=\"white-space:pre;overflow-x:auto;line-height:normal;font-family:Menlo,'DejaVu Sans Mono',consolas,'Courier New',monospace\">┏━━━━━━━━━━━━━━━━━━━━━━━━━━━━━━━━━┳━━━━━━━━━━━━━━━━━━━━━━━━┳━━━━━━━━━━━━━━━┓\n",
       "┃<span style=\"font-weight: bold\"> Layer (type)                    </span>┃<span style=\"font-weight: bold\"> Output Shape           </span>┃<span style=\"font-weight: bold\">       Param # </span>┃\n",
       "┡━━━━━━━━━━━━━━━━━━━━━━━━━━━━━━━━━╇━━━━━━━━━━━━━━━━━━━━━━━━╇━━━━━━━━━━━━━━━┩\n",
       "│ dense (<span style=\"color: #0087ff; text-decoration-color: #0087ff\">Dense</span>)                   │ (<span style=\"color: #00d7ff; text-decoration-color: #00d7ff\">None</span>, <span style=\"color: #00af00; text-decoration-color: #00af00\">16</span>)             │           <span style=\"color: #00af00; text-decoration-color: #00af00\">144</span> │\n",
       "├─────────────────────────────────┼────────────────────────┼───────────────┤\n",
       "│ dense_1 (<span style=\"color: #0087ff; text-decoration-color: #0087ff\">Dense</span>)                 │ (<span style=\"color: #00d7ff; text-decoration-color: #00d7ff\">None</span>, <span style=\"color: #00af00; text-decoration-color: #00af00\">1</span>)              │            <span style=\"color: #00af00; text-decoration-color: #00af00\">17</span> │\n",
       "└─────────────────────────────────┴────────────────────────┴───────────────┘\n",
       "</pre>\n"
      ],
      "text/plain": [
       "┏━━━━━━━━━━━━━━━━━━━━━━━━━━━━━━━━━┳━━━━━━━━━━━━━━━━━━━━━━━━┳━━━━━━━━━━━━━━━┓\n",
       "┃\u001b[1m \u001b[0m\u001b[1mLayer (type)                   \u001b[0m\u001b[1m \u001b[0m┃\u001b[1m \u001b[0m\u001b[1mOutput Shape          \u001b[0m\u001b[1m \u001b[0m┃\u001b[1m \u001b[0m\u001b[1m      Param #\u001b[0m\u001b[1m \u001b[0m┃\n",
       "┡━━━━━━━━━━━━━━━━━━━━━━━━━━━━━━━━━╇━━━━━━━━━━━━━━━━━━━━━━━━╇━━━━━━━━━━━━━━━┩\n",
       "│ dense (\u001b[38;5;33mDense\u001b[0m)                   │ (\u001b[38;5;45mNone\u001b[0m, \u001b[38;5;34m16\u001b[0m)             │           \u001b[38;5;34m144\u001b[0m │\n",
       "├─────────────────────────────────┼────────────────────────┼───────────────┤\n",
       "│ dense_1 (\u001b[38;5;33mDense\u001b[0m)                 │ (\u001b[38;5;45mNone\u001b[0m, \u001b[38;5;34m1\u001b[0m)              │            \u001b[38;5;34m17\u001b[0m │\n",
       "└─────────────────────────────────┴────────────────────────┴───────────────┘\n"
      ]
     },
     "metadata": {},
     "output_type": "display_data"
    },
    {
     "data": {
      "text/html": [
       "<pre style=\"white-space:pre;overflow-x:auto;line-height:normal;font-family:Menlo,'DejaVu Sans Mono',consolas,'Courier New',monospace\"><span style=\"font-weight: bold\"> Total params: </span><span style=\"color: #00af00; text-decoration-color: #00af00\">161</span> (644.00 B)\n",
       "</pre>\n"
      ],
      "text/plain": [
       "\u001b[1m Total params: \u001b[0m\u001b[38;5;34m161\u001b[0m (644.00 B)\n"
      ]
     },
     "metadata": {},
     "output_type": "display_data"
    },
    {
     "data": {
      "text/html": [
       "<pre style=\"white-space:pre;overflow-x:auto;line-height:normal;font-family:Menlo,'DejaVu Sans Mono',consolas,'Courier New',monospace\"><span style=\"font-weight: bold\"> Trainable params: </span><span style=\"color: #00af00; text-decoration-color: #00af00\">161</span> (644.00 B)\n",
       "</pre>\n"
      ],
      "text/plain": [
       "\u001b[1m Trainable params: \u001b[0m\u001b[38;5;34m161\u001b[0m (644.00 B)\n"
      ]
     },
     "metadata": {},
     "output_type": "display_data"
    },
    {
     "data": {
      "text/html": [
       "<pre style=\"white-space:pre;overflow-x:auto;line-height:normal;font-family:Menlo,'DejaVu Sans Mono',consolas,'Courier New',monospace\"><span style=\"font-weight: bold\"> Non-trainable params: </span><span style=\"color: #00af00; text-decoration-color: #00af00\">0</span> (0.00 B)\n",
       "</pre>\n"
      ],
      "text/plain": [
       "\u001b[1m Non-trainable params: \u001b[0m\u001b[38;5;34m0\u001b[0m (0.00 B)\n"
      ]
     },
     "metadata": {},
     "output_type": "display_data"
    }
   ],
   "source": [
    "model.summary()"
   ]
  },
  {
   "cell_type": "code",
   "execution_count": 11,
   "id": "62818d2d",
   "metadata": {
    "execution": {
     "iopub.execute_input": "2024-04-26T09:46:51.172150Z",
     "iopub.status.busy": "2024-04-26T09:46:51.170919Z",
     "iopub.status.idle": "2024-04-26T09:46:51.188037Z",
     "shell.execute_reply": "2024-04-26T09:46:51.186915Z"
    },
    "papermill": {
     "duration": 0.031046,
     "end_time": "2024-04-26T09:46:51.190620",
     "exception": false,
     "start_time": "2024-04-26T09:46:51.159574",
     "status": "completed"
    },
    "tags": []
   },
   "outputs": [],
   "source": [
    "# Compile the model\n",
    "model.compile(optimizer=Adam(learning_rate=0.01), loss='mse', metrics=['mae'])"
   ]
  },
  {
   "cell_type": "code",
   "execution_count": 12,
   "id": "77b3f77b",
   "metadata": {
    "execution": {
     "iopub.execute_input": "2024-04-26T09:46:51.209958Z",
     "iopub.status.busy": "2024-04-26T09:46:51.208951Z",
     "iopub.status.idle": "2024-04-26T09:46:51.213956Z",
     "shell.execute_reply": "2024-04-26T09:46:51.212870Z"
    },
    "papermill": {
     "duration": 0.017259,
     "end_time": "2024-04-26T09:46:51.216248",
     "exception": false,
     "start_time": "2024-04-26T09:46:51.198989",
     "status": "completed"
    },
    "tags": []
   },
   "outputs": [],
   "source": [
    "# Define early stopping criteria\n",
    "early_stopping = EarlyStopping(monitor='val_loss', patience=5, restore_best_weights=True)"
   ]
  },
  {
   "cell_type": "code",
   "execution_count": 13,
   "id": "1155339e",
   "metadata": {
    "execution": {
     "iopub.execute_input": "2024-04-26T09:46:51.234724Z",
     "iopub.status.busy": "2024-04-26T09:46:51.234271Z",
     "iopub.status.idle": "2024-04-26T09:46:59.408358Z",
     "shell.execute_reply": "2024-04-26T09:46:59.407199Z"
    },
    "papermill": {
     "duration": 8.186429,
     "end_time": "2024-04-26T09:46:59.410925",
     "exception": false,
     "start_time": "2024-04-26T09:46:51.224496",
     "status": "completed"
    },
    "tags": []
   },
   "outputs": [
    {
     "name": "stdout",
     "output_type": "stream",
     "text": [
      "Epoch 1/100\n",
      "\u001b[1m320/320\u001b[0m \u001b[32m━━━━━━━━━━━━━━━━━━━━\u001b[0m\u001b[37m\u001b[0m \u001b[1m2s\u001b[0m 2ms/step - loss: 0.2494 - mae: 0.3301 - val_loss: 0.0444 - val_mae: 0.1564\n",
      "Epoch 2/100\n",
      "\u001b[1m320/320\u001b[0m \u001b[32m━━━━━━━━━━━━━━━━━━━━\u001b[0m\u001b[37m\u001b[0m \u001b[1m1s\u001b[0m 2ms/step - loss: 0.0218 - mae: 0.1061 - val_loss: 0.0090 - val_mae: 0.0800\n",
      "Epoch 3/100\n",
      "\u001b[1m320/320\u001b[0m \u001b[32m━━━━━━━━━━━━━━━━━━━━\u001b[0m\u001b[37m\u001b[0m \u001b[1m1s\u001b[0m 2ms/step - loss: 0.0086 - mae: 0.0709 - val_loss: 0.0095 - val_mae: 0.0787\n",
      "Epoch 4/100\n",
      "\u001b[1m320/320\u001b[0m \u001b[32m━━━━━━━━━━━━━━━━━━━━\u001b[0m\u001b[37m\u001b[0m \u001b[1m1s\u001b[0m 2ms/step - loss: 0.0085 - mae: 0.0690 - val_loss: 0.0057 - val_mae: 0.0598\n",
      "Epoch 5/100\n",
      "\u001b[1m320/320\u001b[0m \u001b[32m━━━━━━━━━━━━━━━━━━━━\u001b[0m\u001b[37m\u001b[0m \u001b[1m1s\u001b[0m 2ms/step - loss: 0.0063 - mae: 0.0612 - val_loss: 0.0056 - val_mae: 0.0581\n",
      "Epoch 6/100\n",
      "\u001b[1m320/320\u001b[0m \u001b[32m━━━━━━━━━━━━━━━━━━━━\u001b[0m\u001b[37m\u001b[0m \u001b[1m1s\u001b[0m 1ms/step - loss: 0.0056 - mae: 0.0576 - val_loss: 0.0049 - val_mae: 0.0523\n",
      "Epoch 7/100\n",
      "\u001b[1m320/320\u001b[0m \u001b[32m━━━━━━━━━━━━━━━━━━━━\u001b[0m\u001b[37m\u001b[0m \u001b[1m0s\u001b[0m 1ms/step - loss: 0.0053 - mae: 0.0549 - val_loss: 0.0049 - val_mae: 0.0526\n",
      "Epoch 8/100\n",
      "\u001b[1m320/320\u001b[0m \u001b[32m━━━━━━━━━━━━━━━━━━━━\u001b[0m\u001b[37m\u001b[0m \u001b[1m1s\u001b[0m 1ms/step - loss: 0.0039 - mae: 0.0472 - val_loss: 0.0054 - val_mae: 0.0568\n",
      "Epoch 9/100\n",
      "\u001b[1m320/320\u001b[0m \u001b[32m━━━━━━━━━━━━━━━━━━━━\u001b[0m\u001b[37m\u001b[0m \u001b[1m1s\u001b[0m 1ms/step - loss: 0.0046 - mae: 0.0499 - val_loss: 0.0054 - val_mae: 0.0551\n",
      "Epoch 10/100\n",
      "\u001b[1m320/320\u001b[0m \u001b[32m━━━━━━━━━━━━━━━━━━━━\u001b[0m\u001b[37m\u001b[0m \u001b[1m1s\u001b[0m 2ms/step - loss: 0.0045 - mae: 0.0522 - val_loss: 0.0053 - val_mae: 0.0593\n",
      "Epoch 11/100\n",
      "\u001b[1m320/320\u001b[0m \u001b[32m━━━━━━━━━━━━━━━━━━━━\u001b[0m\u001b[37m\u001b[0m \u001b[1m1s\u001b[0m 2ms/step - loss: 0.0050 - mae: 0.0538 - val_loss: 0.0083 - val_mae: 0.0774\n"
     ]
    },
    {
     "data": {
      "text/plain": [
       "<keras.src.callbacks.history.History at 0x7d16903d7a90>"
      ]
     },
     "execution_count": 13,
     "metadata": {},
     "output_type": "execute_result"
    }
   ],
   "source": [
    "# Fit the model\n",
    "model.fit(features_train_scaled, labels_train, epochs=100, batch_size=1, verbose=1, validation_split=0.2, callbacks=[early_stopping])"
   ]
  },
  {
   "cell_type": "code",
   "execution_count": 14,
   "id": "8338b703",
   "metadata": {
    "execution": {
     "iopub.execute_input": "2024-04-26T09:46:59.451315Z",
     "iopub.status.busy": "2024-04-26T09:46:59.450916Z",
     "iopub.status.idle": "2024-04-26T09:46:59.782855Z",
     "shell.execute_reply": "2024-04-26T09:46:59.781582Z"
    },
    "papermill": {
     "duration": 0.355237,
     "end_time": "2024-04-26T09:46:59.785460",
     "exception": false,
     "start_time": "2024-04-26T09:46:59.430223",
     "status": "completed"
    },
    "tags": []
   },
   "outputs": [
    {
     "name": "stdout",
     "output_type": "stream",
     "text": [
      "Mean Squared Error: 0.00401826249435544 Mean Absolute Error: 0.04612528905272484\n"
     ]
    }
   ],
   "source": [
    "# Evaluate the model\n",
    "# mse and mae, the closer the result to 0 the better\n",
    "mse, mae = model.evaluate(features_test_scaled, labels_test, verbose=0)\n",
    "print(\"Mean Squared Error:\", mse, \"Mean Absolute Error:\", mae)"
   ]
  },
  {
   "cell_type": "code",
   "execution_count": 15,
   "id": "5cda6ea8",
   "metadata": {
    "execution": {
     "iopub.execute_input": "2024-04-26T09:46:59.825317Z",
     "iopub.status.busy": "2024-04-26T09:46:59.824932Z",
     "iopub.status.idle": "2024-04-26T09:47:00.043697Z",
     "shell.execute_reply": "2024-04-26T09:47:00.042203Z"
    },
    "papermill": {
     "duration": 0.242322,
     "end_time": "2024-04-26T09:47:00.046709",
     "exception": false,
     "start_time": "2024-04-26T09:46:59.804387",
     "status": "completed"
    },
    "tags": []
   },
   "outputs": [
    {
     "name": "stdout",
     "output_type": "stream",
     "text": [
      "\u001b[1m4/4\u001b[0m \u001b[32m━━━━━━━━━━━━━━━━━━━━\u001b[0m\u001b[37m\u001b[0m \u001b[1m0s\u001b[0m 13ms/step\n",
      "Root Mean Squared Error: 0.06338976666976286\n"
     ]
    }
   ],
   "source": [
    "# rmse, the closer the result to 0 the better\n",
    "rmse = np.sqrt(mean_squared_error(labels_test, model.predict(features_test_scaled)))\n",
    "print(\"Root Mean Squared Error:\", rmse)"
   ]
  },
  {
   "cell_type": "code",
   "execution_count": 16,
   "id": "ce073401",
   "metadata": {
    "execution": {
     "iopub.execute_input": "2024-04-26T09:47:00.088799Z",
     "iopub.status.busy": "2024-04-26T09:47:00.088312Z",
     "iopub.status.idle": "2024-04-26T09:47:00.198262Z",
     "shell.execute_reply": "2024-04-26T09:47:00.196116Z"
    },
    "papermill": {
     "duration": 0.136221,
     "end_time": "2024-04-26T09:47:00.202433",
     "exception": false,
     "start_time": "2024-04-26T09:47:00.066212",
     "status": "completed"
    },
    "tags": []
   },
   "outputs": [
    {
     "name": "stdout",
     "output_type": "stream",
     "text": [
      "\u001b[1m4/4\u001b[0m \u001b[32m━━━━━━━━━━━━━━━━━━━━\u001b[0m\u001b[37m\u001b[0m \u001b[1m0s\u001b[0m 3ms/step \n",
      "R2 Score: 0.7828276117112489\n"
     ]
    }
   ],
   "source": [
    "# R2 score, result closer to 1 suggests a well-fit regression model.\n",
    "r2 = r2_score(labels_test, model.predict(features_test_scaled))\n",
    "print(\"R2 Score:\", r2)"
   ]
  },
  {
   "cell_type": "code",
   "execution_count": 17,
   "id": "7be7c393",
   "metadata": {
    "execution": {
     "iopub.execute_input": "2024-04-26T09:47:00.250580Z",
     "iopub.status.busy": "2024-04-26T09:47:00.250130Z",
     "iopub.status.idle": "2024-04-26T09:47:00.746609Z",
     "shell.execute_reply": "2024-04-26T09:47:00.745513Z"
    },
    "papermill": {
     "duration": 0.520714,
     "end_time": "2024-04-26T09:47:00.749243",
     "exception": false,
     "start_time": "2024-04-26T09:47:00.228529",
     "status": "completed"
    },
    "tags": []
   },
   "outputs": [
    {
     "name": "stdout",
     "output_type": "stream",
     "text": [
      "\u001b[1m4/4\u001b[0m \u001b[32m━━━━━━━━━━━━━━━━━━━━\u001b[0m\u001b[37m\u001b[0m \u001b[1m0s\u001b[0m 2ms/step \n"
     ]
    },
    {
     "data": {
      "image/png": "[encoded data removed]",
      "text/plain": [
       "<Figure size 800x600 with 1 Axes>"
      ]
     },
     "metadata": {},
     "output_type": "display_data"
    }
   ],
   "source": [
    "# Actual vs. predicted values\n",
    "plt.figure(figsize=(8, 6))\n",
    "plt.scatter(labels_test, model.predict(features_test_scaled), color='blue', label='Actual vs. Predicted')\n",
    "plt.plot([labels.min(), labels.max()], [labels.min(), labels.max()], color='red', linestyle='--', lw=2, label='Ideal Line')\n",
    "plt.title('Actual vs. Predicted')\n",
    "plt.xlabel('Actual')\n",
    "plt.ylabel('Predicted')\n",
    "plt.legend()\n",
    "plt.grid(True)\n",
    "plt.show()"
   ]
  },
  {
   "cell_type": "markdown",
   "id": "fbb6257b",
   "metadata": {
    "papermill": {
     "duration": 0.019985,
     "end_time": "2024-04-26T09:47:00.789628",
     "exception": false,
     "start_time": "2024-04-26T09:47:00.769643",
     "status": "completed"
    },
    "tags": []
   },
   "source": [
    "Overall, the model seems to perform reasonably well, with relatively low errors (MSE, MAE, RMSE) and a decent R2 score, suggesting that it captures a significant portion of the variance in the target variable. \n",
    "\n",
    "However, future steps would involve comparing these results to the performance of alternative models."
   ]
  }
 ],
 "metadata": {
  "kaggle": {
   "accelerator": "none",
   "dataSources": [
    {
     "datasetId": 14872,
     "sourceId": 228180,
     "sourceType": "datasetVersion"
    }
   ],
   "dockerImageVersionId": 30698,
   "isGpuEnabled": false,
   "isInternetEnabled": false,
   "language": "python",
   "sourceType": "notebook"
  },
  "kernelspec": {
   "display_name": "Python 3",
   "language": "python",
   "name": "python3"
  },
  "language_info": {
   "codemirror_mode": {
    "name": "ipython",
    "version": 3
   },
   "file_extension": ".py",
   "mimetype": "text/x-python",
   "name": "python",
   "nbconvert_exporter": "python",
   "pygments_lexer": "ipython3",
   "version": "3.10.13"
  },
  "papermill": {
   "default_parameters": {},
   "duration": 31.920276,
   "end_time": "2024-04-26T09:47:02.436588",
   "environment_variables": {},
   "exception": null,
   "input_path": "__notebook__.ipynb",
   "output_path": "__notebook__.ipynb",
   "parameters": {},
   "start_time": "2024-04-26T09:46:30.516312",
   "version": "2.5.0"
  }
 },
 "nbformat": 4,
 "nbformat_minor": 5
}
